{
  "nbformat": 4,
  "nbformat_minor": 0,
  "metadata": {
    "colab": {
      "provenance": [],
      "authorship_tag": "ABX9TyM4clijEGavSccKEKtoKqMd",
      "include_colab_link": true
    },
    "kernelspec": {
      "name": "python3",
      "display_name": "Python 3"
    },
    "language_info": {
      "name": "python"
    },
    "accelerator": "GPU",
    "gpuClass": "standard"
  },
  "cells": [
    {
      "cell_type": "markdown",
      "metadata": {
        "id": "view-in-github",
        "colab_type": "text"
      },
      "source": [
        "<a href=\"https://colab.research.google.com/github/rupaidutta66/Text_Extract_from_PDF/blob/feature%2FPaddleOCR/PaddleOCR_Para.ipynb\" target=\"_parent\"><img src=\"https://colab.research.google.com/assets/colab-badge.svg\" alt=\"Open In Colab\"/></a>"
      ]
    },
    {
      "cell_type": "code",
      "source": [
        "!pip install paddlepaddle\n",
        "!pip install paddleocr\n",
        "!sudo apt-get install -y poppler-utils\n",
        "!pip install pdf2image\n",
        "\n",
        "\n",
        "from paddleocr import PaddleOCR,draw_ocr\n",
        "from PIL import Image, ImageEnhance\n",
        "from pdf2image import convert_from_path\n",
        "import numpy as np\n",
        "import pandas as pd\n",
        "import cv2\n",
        "import os, glob"
      ],
      "metadata": {
        "id": "IrWJw_SGZwJZ"
      },
      "execution_count": null,
      "outputs": []
    },
    {
      "cell_type": "code",
      "source": [
        "def main():\n",
        "\n",
        "  ocr = PaddleOCR(lang='en')\n",
        "  images = convert_from_path('/content/Pipe-TPCO-1.pdf')\n",
        "\n",
        "\n",
        "  for i in range(len(images)):\n",
        "    images[i].save('/content/page'+ str(i+1) +'.jpg', 'JPEG')\n",
        "    img_path = '/content/page'+ str(i+1) +'.jpg'\n",
        "    image_cv = cv2.imread(img_path)\n",
        "    result = ocr.ocr(img_path)\n",
        "\n",
        "    output = result[0]\n",
        "\n",
        "    boxes = [line[0] for line in output]\n",
        "    txts = [line[1][0] for line in output]\n",
        "    scores = [line[1][1] for line in output]\n",
        "    # im_show = draw_ocr(image, boxes, txts, scores, font_path='/usr/share/fonts/truetype/liberation/LiberationSans-Regular.ttf')\n",
        "    # im_show = Image.fromarray(im_show)\n",
        "    for box in boxes:\n",
        "      cv2.rectangle(image_cv, (int(box[0][0]), int(box[0][1])), (int(box[2][0]), int(box[2][1])), (0,0,255),1)\n",
        "    cv2.imwrite('detection_'+ str(i+1) + '.jpg', image_cv)\n",
        "    pd.DataFrame({'Text': txts}).to_csv('table_data' + str(i+1) + '.csv')\n",
        "\n",
        "    for file in glob.glob('*.csv'):\n",
        "      df = pd.read_csv(file)\n",
        "      df.to_json('jason_data' + str(i+1) + '.json', orient='records')"
      ],
      "metadata": {
        "id": "VnPsuCPF0lhH"
      },
      "execution_count": null,
      "outputs": []
    },
    {
      "cell_type": "code",
      "source": [
        "if __name__==\"__main__\":\n",
        "  main()\n",
        "\n",
        "  for filename in glob.glob(\"/content/page*\"):\n",
        "    os.remove(filename)\n",
        ""
      ],
      "metadata": {
        "id": "zkLgQ2TX_F7T",
        "colab": {
          "base_uri": "https://localhost:8080/"
        },
        "outputId": "a4df5db9-4115-4d56-a876-b9aa7a4c72d5"
      },
      "execution_count": null,
      "outputs": [
        {
          "output_type": "stream",
          "name": "stdout",
          "text": [
            "[2023/04/23 16:40:12] ppocr DEBUG: Namespace(help='==SUPPRESS==', use_gpu=False, use_xpu=False, use_npu=False, ir_optim=True, use_tensorrt=False, min_subgraph_size=15, precision='fp32', gpu_mem=500, image_dir=None, page_num=0, det_algorithm='DB', det_model_dir='/root/.paddleocr/whl/det/en/en_PP-OCRv3_det_infer', det_limit_side_len=960, det_limit_type='max', det_box_type='quad', det_db_thresh=0.3, det_db_box_thresh=0.6, det_db_unclip_ratio=1.5, max_batch_size=10, use_dilation=False, det_db_score_mode='fast', det_east_score_thresh=0.8, det_east_cover_thresh=0.1, det_east_nms_thresh=0.2, det_sast_score_thresh=0.5, det_sast_nms_thresh=0.2, det_pse_thresh=0, det_pse_box_thresh=0.85, det_pse_min_area=16, det_pse_scale=1, scales=[8, 16, 32], alpha=1.0, beta=1.0, fourier_degree=5, rec_algorithm='SVTR_LCNet', rec_model_dir='/root/.paddleocr/whl/rec/en/en_PP-OCRv3_rec_infer', rec_image_inverse=True, rec_image_shape='3, 48, 320', rec_batch_num=6, max_text_length=25, rec_char_dict_path='/usr/local/lib/python3.9/dist-packages/paddleocr/ppocr/utils/en_dict.txt', use_space_char=True, vis_font_path='./doc/fonts/simfang.ttf', drop_score=0.5, e2e_algorithm='PGNet', e2e_model_dir=None, e2e_limit_side_len=768, e2e_limit_type='max', e2e_pgnet_score_thresh=0.5, e2e_char_dict_path='./ppocr/utils/ic15_dict.txt', e2e_pgnet_valid_set='totaltext', e2e_pgnet_mode='fast', use_angle_cls=False, cls_model_dir='/root/.paddleocr/whl/cls/ch_ppocr_mobile_v2.0_cls_infer', cls_image_shape='3, 48, 192', label_list=['0', '180'], cls_batch_num=6, cls_thresh=0.9, enable_mkldnn=False, cpu_threads=10, use_pdserving=False, warmup=False, sr_model_dir=None, sr_image_shape='3, 32, 128', sr_batch_num=1, draw_img_save_dir='./inference_results', save_crop_res=False, crop_res_save_dir='./output', use_mp=False, total_process_num=1, process_id=0, benchmark=False, save_log_path='./log_output/', show_log=True, use_onnx=False, output='./output', table_max_len=488, table_algorithm='TableAttn', table_model_dir=None, merge_no_span_structure=True, table_char_dict_path=None, layout_model_dir=None, layout_dict_path=None, layout_score_threshold=0.5, layout_nms_threshold=0.5, kie_algorithm='LayoutXLM', ser_model_dir=None, re_model_dir=None, use_visual_backbone=True, ser_dict_path='../train_data/XFUND/class_list_xfun.txt', ocr_order_method=None, mode='structure', image_orientation=False, layout=True, table=True, ocr=True, recovery=False, use_pdf2docx_api=False, lang='en', det=True, rec=True, type='ocr', ocr_version='PP-OCRv3', structure_version='PP-StructureV2')\n",
            "[2023/04/23 16:40:14] ppocr WARNING: Since the angle classifier is not initialized, the angle classifier will not be uesd during the forward process\n",
            "[2023/04/23 16:40:14] ppocr DEBUG: dt_boxes num : 213, elapse : 0.6147012710571289\n",
            "[2023/04/23 16:40:32] ppocr DEBUG: rec_res num  : 213, elapse : 17.357434034347534\n",
            "[2023/04/23 16:40:32] ppocr WARNING: Since the angle classifier is not initialized, the angle classifier will not be uesd during the forward process\n",
            "[2023/04/23 16:40:32] ppocr DEBUG: dt_boxes num : 80, elapse : 0.5400707721710205\n",
            "[2023/04/23 16:40:41] ppocr DEBUG: rec_res num  : 80, elapse : 9.04640531539917\n"
          ]
        }
      ]
    },
    {
      "cell_type": "code",
      "source": [],
      "metadata": {
        "id": "Ve9J9gMNSvcW"
      },
      "execution_count": null,
      "outputs": []
    },
    {
      "cell_type": "code",
      "source": [],
      "metadata": {
        "id": "yJRhkvZpSvat"
      },
      "execution_count": null,
      "outputs": []
    },
    {
      "cell_type": "code",
      "source": [],
      "metadata": {
        "id": "lVpJivbySvYb"
      },
      "execution_count": null,
      "outputs": []
    },
    {
      "cell_type": "code",
      "source": [],
      "metadata": {
        "id": "WUt4zhf-SvV_"
      },
      "execution_count": null,
      "outputs": []
    },
    {
      "cell_type": "code",
      "source": [
        "from PIL import Image\n",
        "import numpy as np\n",
        "import os\n",
        "\n",
        "# set the directory path where the images are located\n",
        "directory = '/content/'\n",
        "\n",
        "# initialize an empty list to store the image arrays\n",
        "image_list = 0\n",
        "for filename in os.listdir(directory):\n",
        "\n",
        "  if filename.endswith('.jpg') or filename.endswith('.png'):\n",
        "    image_list += 1\n",
        "\n",
        "\n",
        "\n"
      ],
      "metadata": {
        "id": "zguWaFKPdFcX"
      },
      "execution_count": null,
      "outputs": []
    },
    {
      "cell_type": "code",
      "source": [
        "ocr = PaddleOCR(lang='en')\n",
        "for i in range(1,14):\n",
        "  img_path = '/content/ANH_2_' + str(i) + '.png'\n",
        "  image_cv = cv2.imread(img_path)\n",
        "  result = ocr.ocr(img_path)\n",
        "\n",
        "  output = result[0]\n",
        "\n",
        "  boxes = [line[0] for line in output]\n",
        "  txts = [line[1][0] for line in output]\n",
        "  scores = [line[1][1] for line in output]\n",
        "# im_show = draw_ocr(image, boxes, txts, scores, font_path='/usr/share/fonts/truetype/liberation/LiberationSans-Regular.ttf')\n",
        "# im_show = Image.fromarray(im_show)\n",
        "  for box in boxes:\n",
        "    cv2.rectangle(image_cv, (int(box[0][0]), int(box[0][1])), (int(box[2][0]), int(box[2][1])), (0,0,255),1)\n",
        "  cv2.imwrite('detection_' + str(i) + '.jpg', image_cv)\n",
        "\n",
        "  pd.DataFrame({'Text': txts}).to_csv('table_data_' + str(i) + '.csv')"
      ],
      "metadata": {
        "id": "nXpjLKOl_F5F"
      },
      "execution_count": null,
      "outputs": []
    },
    {
      "cell_type": "code",
      "source": [
        "len(image_list)"
      ],
      "metadata": {
        "colab": {
          "base_uri": "https://localhost:8080/"
        },
        "id": "Z-j9uQsWM9y1",
        "outputId": "a8273871-96d2-4bde-d96d-da5dbd9a2be2"
      },
      "execution_count": null,
      "outputs": [
        {
          "output_type": "execute_result",
          "data": {
            "text/plain": [
              "13"
            ]
          },
          "metadata": {},
          "execution_count": 5
        }
      ]
    },
    {
      "cell_type": "code",
      "source": [],
      "metadata": {
        "id": "SOvCoYlPM_po"
      },
      "execution_count": null,
      "outputs": []
    }
  ]
}