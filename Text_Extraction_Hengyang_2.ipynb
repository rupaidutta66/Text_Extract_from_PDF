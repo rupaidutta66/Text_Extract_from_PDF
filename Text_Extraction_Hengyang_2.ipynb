{
  "nbformat": 4,
  "nbformat_minor": 0,
  "metadata": {
    "colab": {
      "provenance": [],
      "toc_visible": true,
      "include_colab_link": true
    },
    "kernelspec": {
      "name": "python3",
      "display_name": "Python 3"
    },
    "language_info": {
      "name": "python"
    },
    "accelerator": "GPU",
    "gpuClass": "standard"
  },
  "cells": [
    {
      "cell_type": "markdown",
      "metadata": {
        "id": "view-in-github",
        "colab_type": "text"
      },
      "source": [
        "<a href=\"https://colab.research.google.com/github/rupaidutta66/Text_Extract_from_PDF/blob/main/Text_Extraction_Hengyang_2.ipynb\" target=\"_parent\"><img src=\"https://colab.research.google.com/assets/colab-badge.svg\" alt=\"Open In Colab\"/></a>"
      ]
    },
    {
      "cell_type": "code",
      "source": [
        "!sudo apt-get install -y poppler-utils\n",
        "!pip install pdf2image\n",
        "!pip install easyocr\n",
        "!pip install opencv-python"
      ],
      "metadata": {
        "id": "SucAqnzl3hRT",
        "colab": {
          "base_uri": "https://localhost:8080/"
        },
        "outputId": "5f97228b-f812-4812-e367-529dd1e5fe19"
      },
      "execution_count": null,
      "outputs": [
        {
          "output_type": "stream",
          "name": "stdout",
          "text": [
            "Reading package lists... Done\n",
            "Building dependency tree       \n",
            "Reading state information... Done\n",
            "The following NEW packages will be installed:\n",
            "  poppler-utils\n",
            "0 upgraded, 1 newly installed, 0 to remove and 24 not upgraded.\n",
            "Need to get 174 kB of archives.\n",
            "After this operation, 754 kB of additional disk space will be used.\n",
            "Get:1 http://archive.ubuntu.com/ubuntu focal-updates/main amd64 poppler-utils amd64 0.86.1-0ubuntu1.1 [174 kB]\n",
            "Fetched 174 kB in 0s (438 kB/s)\n",
            "debconf: unable to initialize frontend: Dialog\n",
            "debconf: (No usable dialog-like program is installed, so the dialog based frontend cannot be used. at /usr/share/perl5/Debconf/FrontEnd/Dialog.pm line 76, <> line 1.)\n",
            "debconf: falling back to frontend: Readline\n",
            "debconf: unable to initialize frontend: Readline\n",
            "debconf: (This frontend requires a controlling tty.)\n",
            "debconf: falling back to frontend: Teletype\n",
            "dpkg-preconfigure: unable to re-open stdin: \n",
            "Selecting previously unselected package poppler-utils.\n",
            "(Reading database ... 122352 files and directories currently installed.)\n",
            "Preparing to unpack .../poppler-utils_0.86.1-0ubuntu1.1_amd64.deb ...\n",
            "Unpacking poppler-utils (0.86.1-0ubuntu1.1) ...\n",
            "Setting up poppler-utils (0.86.1-0ubuntu1.1) ...\n",
            "Processing triggers for man-db (2.9.1-1) ...\n",
            "Looking in indexes: https://pypi.org/simple, https://us-python.pkg.dev/colab-wheels/public/simple/\n",
            "Collecting pdf2image\n",
            "  Downloading pdf2image-1.16.3-py3-none-any.whl (11 kB)\n",
            "Requirement already satisfied: pillow in /usr/local/lib/python3.9/dist-packages (from pdf2image) (8.4.0)\n",
            "Installing collected packages: pdf2image\n",
            "Successfully installed pdf2image-1.16.3\n",
            "Looking in indexes: https://pypi.org/simple, https://us-python.pkg.dev/colab-wheels/public/simple/\n",
            "Collecting easyocr\n",
            "  Downloading easyocr-1.6.2-py3-none-any.whl (2.9 MB)\n",
            "\u001b[2K     \u001b[90m━━━━━━━━━━━━━━━━━━━━━━━━━━━━━━━━━━━━━━━━\u001b[0m \u001b[32m2.9/2.9 MB\u001b[0m \u001b[31m50.8 MB/s\u001b[0m eta \u001b[36m0:00:00\u001b[0m\n",
            "\u001b[?25hCollecting ninja\n",
            "  Downloading ninja-1.11.1-py2.py3-none-manylinux_2_12_x86_64.manylinux2010_x86_64.whl (145 kB)\n",
            "\u001b[2K     \u001b[90m━━━━━━━━━━━━━━━━━━━━━━━━━━━━━━━━━━━━━━\u001b[0m \u001b[32m146.0/146.0 kB\u001b[0m \u001b[31m19.7 MB/s\u001b[0m eta \u001b[36m0:00:00\u001b[0m\n",
            "\u001b[?25hRequirement already satisfied: numpy in /usr/local/lib/python3.9/dist-packages (from easyocr) (1.22.4)\n",
            "Requirement already satisfied: scipy in /usr/local/lib/python3.9/dist-packages (from easyocr) (1.10.1)\n",
            "Requirement already satisfied: PyYAML in /usr/local/lib/python3.9/dist-packages (from easyocr) (6.0)\n",
            "Collecting python-bidi\n",
            "  Downloading python_bidi-0.4.2-py2.py3-none-any.whl (30 kB)\n",
            "Requirement already satisfied: Pillow in /usr/local/lib/python3.9/dist-packages (from easyocr) (8.4.0)\n",
            "Collecting opencv-python-headless<=4.5.4.60\n",
            "  Downloading opencv_python_headless-4.5.4.60-cp39-cp39-manylinux_2_17_x86_64.manylinux2014_x86_64.whl (47.6 MB)\n",
            "\u001b[2K     \u001b[90m━━━━━━━━━━━━━━━━━━━━━━━━━━━━━━━━━━━━━━━━\u001b[0m \u001b[32m47.6/47.6 MB\u001b[0m \u001b[31m18.6 MB/s\u001b[0m eta \u001b[36m0:00:00\u001b[0m\n",
            "\u001b[?25hRequirement already satisfied: torchvision>=0.5 in /usr/local/lib/python3.9/dist-packages (from easyocr) (0.15.1+cu118)\n",
            "Requirement already satisfied: scikit-image in /usr/local/lib/python3.9/dist-packages (from easyocr) (0.19.3)\n",
            "Requirement already satisfied: torch in /usr/local/lib/python3.9/dist-packages (from easyocr) (2.0.0+cu118)\n",
            "Requirement already satisfied: Shapely in /usr/local/lib/python3.9/dist-packages (from easyocr) (2.0.1)\n",
            "Collecting pyclipper\n",
            "  Downloading pyclipper-1.3.0.post4-cp39-cp39-manylinux_2_5_x86_64.manylinux1_x86_64.whl (608 kB)\n",
            "\u001b[2K     \u001b[90m━━━━━━━━━━━━━━━━━━━━━━━━━━━━━━━━━━━━━━\u001b[0m \u001b[32m608.2/608.2 kB\u001b[0m \u001b[31m58.0 MB/s\u001b[0m eta \u001b[36m0:00:00\u001b[0m\n",
            "\u001b[?25hRequirement already satisfied: requests in /usr/local/lib/python3.9/dist-packages (from torchvision>=0.5->easyocr) (2.27.1)\n",
            "Requirement already satisfied: sympy in /usr/local/lib/python3.9/dist-packages (from torch->easyocr) (1.11.1)\n",
            "Requirement already satisfied: triton==2.0.0 in /usr/local/lib/python3.9/dist-packages (from torch->easyocr) (2.0.0)\n",
            "Requirement already satisfied: jinja2 in /usr/local/lib/python3.9/dist-packages (from torch->easyocr) (3.1.2)\n",
            "Requirement already satisfied: filelock in /usr/local/lib/python3.9/dist-packages (from torch->easyocr) (3.11.0)\n",
            "Requirement already satisfied: networkx in /usr/local/lib/python3.9/dist-packages (from torch->easyocr) (3.1)\n",
            "Requirement already satisfied: typing-extensions in /usr/local/lib/python3.9/dist-packages (from torch->easyocr) (4.5.0)\n",
            "Requirement already satisfied: cmake in /usr/local/lib/python3.9/dist-packages (from triton==2.0.0->torch->easyocr) (3.25.2)\n",
            "Requirement already satisfied: lit in /usr/local/lib/python3.9/dist-packages (from triton==2.0.0->torch->easyocr) (16.0.1)\n",
            "Requirement already satisfied: six in /usr/local/lib/python3.9/dist-packages (from python-bidi->easyocr) (1.16.0)\n",
            "Requirement already satisfied: imageio>=2.4.1 in /usr/local/lib/python3.9/dist-packages (from scikit-image->easyocr) (2.25.1)\n",
            "Requirement already satisfied: PyWavelets>=1.1.1 in /usr/local/lib/python3.9/dist-packages (from scikit-image->easyocr) (1.4.1)\n",
            "Requirement already satisfied: tifffile>=2019.7.26 in /usr/local/lib/python3.9/dist-packages (from scikit-image->easyocr) (2023.4.12)\n",
            "Requirement already satisfied: packaging>=20.0 in /usr/local/lib/python3.9/dist-packages (from scikit-image->easyocr) (23.1)\n",
            "Requirement already satisfied: MarkupSafe>=2.0 in /usr/local/lib/python3.9/dist-packages (from jinja2->torch->easyocr) (2.1.2)\n",
            "Requirement already satisfied: urllib3<1.27,>=1.21.1 in /usr/local/lib/python3.9/dist-packages (from requests->torchvision>=0.5->easyocr) (1.26.15)\n",
            "Requirement already satisfied: charset-normalizer~=2.0.0 in /usr/local/lib/python3.9/dist-packages (from requests->torchvision>=0.5->easyocr) (2.0.12)\n",
            "Requirement already satisfied: idna<4,>=2.5 in /usr/local/lib/python3.9/dist-packages (from requests->torchvision>=0.5->easyocr) (3.4)\n",
            "Requirement already satisfied: certifi>=2017.4.17 in /usr/local/lib/python3.9/dist-packages (from requests->torchvision>=0.5->easyocr) (2022.12.7)\n",
            "Requirement already satisfied: mpmath>=0.19 in /usr/local/lib/python3.9/dist-packages (from sympy->torch->easyocr) (1.3.0)\n",
            "Installing collected packages: pyclipper, ninja, python-bidi, opencv-python-headless, easyocr\n",
            "  Attempting uninstall: opencv-python-headless\n",
            "    Found existing installation: opencv-python-headless 4.7.0.72\n",
            "    Uninstalling opencv-python-headless-4.7.0.72:\n",
            "      Successfully uninstalled opencv-python-headless-4.7.0.72\n",
            "Successfully installed easyocr-1.6.2 ninja-1.11.1 opencv-python-headless-4.5.4.60 pyclipper-1.3.0.post4 python-bidi-0.4.2\n",
            "Looking in indexes: https://pypi.org/simple, https://us-python.pkg.dev/colab-wheels/public/simple/\n",
            "Requirement already satisfied: opencv-python in /usr/local/lib/python3.9/dist-packages (4.7.0.72)\n",
            "Requirement already satisfied: numpy>=1.17.3 in /usr/local/lib/python3.9/dist-packages (from opencv-python) (1.22.4)\n"
          ]
        }
      ]
    },
    {
      "cell_type": "code",
      "source": [
        "# !pip install pytesseract\n",
        "# !sudo apt install tesseract-ocr"
      ],
      "metadata": {
        "id": "fL67-377wDtV"
      },
      "execution_count": null,
      "outputs": []
    },
    {
      "cell_type": "code",
      "source": [
        "from pdf2image import convert_from_path\n",
        "from PIL import ImageDraw\n",
        "import easyocr\n",
        "import cv2\n",
        "#import pytesseract\n",
        "import numpy as np\n",
        "import pandas as pd\n",
        "import re"
      ],
      "metadata": {
        "id": "CLPHxu-x2jHE"
      },
      "execution_count": null,
      "outputs": []
    },
    {
      "cell_type": "code",
      "source": [
        "reader = easyocr.Reader(['en'])"
      ],
      "metadata": {
        "colab": {
          "base_uri": "https://localhost:8080/"
        },
        "id": "yNuqs-X-wUMF",
        "outputId": "836d7002-19f1-45e1-dbbb-dcf59d7b0d90"
      },
      "execution_count": null,
      "outputs": [
        {
          "output_type": "stream",
          "name": "stderr",
          "text": [
            "WARNING:easyocr.easyocr:Downloading detection model, please wait. This may take several minutes depending upon your network connection.\n"
          ]
        },
        {
          "output_type": "stream",
          "name": "stdout",
          "text": [
            "Progress: |██████████████████████████████████████████████████| 100.0% Complete"
          ]
        },
        {
          "output_type": "stream",
          "name": "stderr",
          "text": [
            "WARNING:easyocr.easyocr:Downloading recognition model, please wait. This may take several minutes depending upon your network connection.\n"
          ]
        },
        {
          "output_type": "stream",
          "name": "stdout",
          "text": [
            "Progress: |██████████████████████████████████████████████████| 100.0% Complete"
          ]
        }
      ]
    },
    {
      "cell_type": "code",
      "source": [
        "image = convert_from_path('/content/Screenshot 2023-03-09 013144.png', dpi=300 )\n",
        "img = image[1]\n",
        "bounds = reader.readtext(np.array(img), min_size=0, slope_ths=0.2, ycenter_ths=0.6, width_ths= 0.7, decoder='beamsearch', beamWidth=10)"
      ],
      "metadata": {
        "id": "yYXgQi-KwUFE",
        "colab": {
          "base_uri": "https://localhost:8080/",
          "height": 502
        },
        "outputId": "6afbc104-d9af-4b7e-ab30-138991ae451c"
      },
      "execution_count": null,
      "outputs": [
        {
          "output_type": "error",
          "ename": "PDFPageCountError",
          "evalue": "ignored",
          "traceback": [
            "\u001b[0;31m---------------------------------------------------------------------------\u001b[0m",
            "\u001b[0;31mValueError\u001b[0m                                Traceback (most recent call last)",
            "\u001b[0;32m/usr/local/lib/python3.9/dist-packages/pdf2image/pdf2image.py\u001b[0m in \u001b[0;36mpdfinfo_from_path\u001b[0;34m(pdf_path, userpw, ownerpw, poppler_path, rawdates, timeout)\u001b[0m\n\u001b[1;32m    588\u001b[0m         \u001b[0;32mif\u001b[0m \u001b[0;34m\"Pages\"\u001b[0m \u001b[0;32mnot\u001b[0m \u001b[0;32min\u001b[0m \u001b[0md\u001b[0m\u001b[0;34m:\u001b[0m\u001b[0;34m\u001b[0m\u001b[0;34m\u001b[0m\u001b[0m\n\u001b[0;32m--> 589\u001b[0;31m             \u001b[0;32mraise\u001b[0m \u001b[0mValueError\u001b[0m\u001b[0;34m\u001b[0m\u001b[0;34m\u001b[0m\u001b[0m\n\u001b[0m\u001b[1;32m    590\u001b[0m \u001b[0;34m\u001b[0m\u001b[0m\n",
            "\u001b[0;31mValueError\u001b[0m: ",
            "\nDuring handling of the above exception, another exception occurred:\n",
            "\u001b[0;31mPDFPageCountError\u001b[0m                         Traceback (most recent call last)",
            "\u001b[0;32m<ipython-input-6-5ac506ed7ee7>\u001b[0m in \u001b[0;36m<cell line: 1>\u001b[0;34m()\u001b[0m\n\u001b[0;32m----> 1\u001b[0;31m \u001b[0mimage\u001b[0m \u001b[0;34m=\u001b[0m \u001b[0mconvert_from_path\u001b[0m\u001b[0;34m(\u001b[0m\u001b[0;34m'/content/Screenshot 2023-03-09 013144.png'\u001b[0m\u001b[0;34m,\u001b[0m \u001b[0mdpi\u001b[0m\u001b[0;34m=\u001b[0m\u001b[0;36m300\u001b[0m \u001b[0;34m)\u001b[0m\u001b[0;34m\u001b[0m\u001b[0;34m\u001b[0m\u001b[0m\n\u001b[0m\u001b[1;32m      2\u001b[0m \u001b[0mimg\u001b[0m \u001b[0;34m=\u001b[0m \u001b[0mimage\u001b[0m\u001b[0;34m[\u001b[0m\u001b[0;36m1\u001b[0m\u001b[0;34m]\u001b[0m\u001b[0;34m\u001b[0m\u001b[0;34m\u001b[0m\u001b[0m\n\u001b[1;32m      3\u001b[0m \u001b[0mbounds\u001b[0m \u001b[0;34m=\u001b[0m \u001b[0mreader\u001b[0m\u001b[0;34m.\u001b[0m\u001b[0mreadtext\u001b[0m\u001b[0;34m(\u001b[0m\u001b[0mnp\u001b[0m\u001b[0;34m.\u001b[0m\u001b[0marray\u001b[0m\u001b[0;34m(\u001b[0m\u001b[0mimg\u001b[0m\u001b[0;34m)\u001b[0m\u001b[0;34m,\u001b[0m \u001b[0mmin_size\u001b[0m\u001b[0;34m=\u001b[0m\u001b[0;36m0\u001b[0m\u001b[0;34m,\u001b[0m \u001b[0mslope_ths\u001b[0m\u001b[0;34m=\u001b[0m\u001b[0;36m0.2\u001b[0m\u001b[0;34m,\u001b[0m \u001b[0mycenter_ths\u001b[0m\u001b[0;34m=\u001b[0m\u001b[0;36m0.6\u001b[0m\u001b[0;34m,\u001b[0m \u001b[0mwidth_ths\u001b[0m\u001b[0;34m=\u001b[0m \u001b[0;36m0.7\u001b[0m\u001b[0;34m,\u001b[0m \u001b[0mdecoder\u001b[0m\u001b[0;34m=\u001b[0m\u001b[0;34m'beamsearch'\u001b[0m\u001b[0;34m,\u001b[0m \u001b[0mbeamWidth\u001b[0m\u001b[0;34m=\u001b[0m\u001b[0;36m10\u001b[0m\u001b[0;34m)\u001b[0m\u001b[0;34m\u001b[0m\u001b[0;34m\u001b[0m\u001b[0m\n",
            "\u001b[0;32m/usr/local/lib/python3.9/dist-packages/pdf2image/pdf2image.py\u001b[0m in \u001b[0;36mconvert_from_path\u001b[0;34m(pdf_path, dpi, output_folder, first_page, last_page, fmt, jpegopt, thread_count, userpw, ownerpw, use_cropbox, strict, transparent, single_file, output_file, poppler_path, grayscale, size, paths_only, use_pdftocairo, timeout, hide_annotations)\u001b[0m\n\u001b[1;32m    125\u001b[0m         \u001b[0mpoppler_path\u001b[0m \u001b[0;34m=\u001b[0m \u001b[0mpoppler_path\u001b[0m\u001b[0;34m.\u001b[0m\u001b[0mas_posix\u001b[0m\u001b[0;34m(\u001b[0m\u001b[0;34m)\u001b[0m\u001b[0;34m\u001b[0m\u001b[0;34m\u001b[0m\u001b[0m\n\u001b[1;32m    126\u001b[0m \u001b[0;34m\u001b[0m\u001b[0m\n\u001b[0;32m--> 127\u001b[0;31m     page_count = pdfinfo_from_path(\n\u001b[0m\u001b[1;32m    128\u001b[0m         \u001b[0mpdf_path\u001b[0m\u001b[0;34m,\u001b[0m \u001b[0muserpw\u001b[0m\u001b[0;34m,\u001b[0m \u001b[0mownerpw\u001b[0m\u001b[0;34m,\u001b[0m \u001b[0mpoppler_path\u001b[0m\u001b[0;34m=\u001b[0m\u001b[0mpoppler_path\u001b[0m\u001b[0;34m\u001b[0m\u001b[0;34m\u001b[0m\u001b[0m\n\u001b[1;32m    129\u001b[0m     )[\"Pages\"]\n",
            "\u001b[0;32m/usr/local/lib/python3.9/dist-packages/pdf2image/pdf2image.py\u001b[0m in \u001b[0;36mpdfinfo_from_path\u001b[0;34m(pdf_path, userpw, ownerpw, poppler_path, rawdates, timeout)\u001b[0m\n\u001b[1;32m    596\u001b[0m         )\n\u001b[1;32m    597\u001b[0m     \u001b[0;32mexcept\u001b[0m \u001b[0mValueError\u001b[0m\u001b[0;34m:\u001b[0m\u001b[0;34m\u001b[0m\u001b[0;34m\u001b[0m\u001b[0m\n\u001b[0;32m--> 598\u001b[0;31m         raise PDFPageCountError(\n\u001b[0m\u001b[1;32m    599\u001b[0m             \u001b[0;34mf\"Unable to get page count.\\n{err.decode('utf8', 'ignore')}\"\u001b[0m\u001b[0;34m\u001b[0m\u001b[0;34m\u001b[0m\u001b[0m\n\u001b[1;32m    600\u001b[0m         )\n",
            "\u001b[0;31mPDFPageCountError\u001b[0m: Unable to get page count.\nSyntax Warning: May not be a PDF file (continuing anyway)\nSyntax Error: Couldn't find trailer dictionary\nSyntax Error: Couldn't find trailer dictionary\nSyntax Error: Couldn't read xref table\n"
          ]
        }
      ]
    },
    {
      "cell_type": "code",
      "source": [
        "boxes = bounds[i][1]"
      ],
      "metadata": {
        "id": "MYcqbvV40RqV"
      },
      "execution_count": null,
      "outputs": []
    },
    {
      "cell_type": "code",
      "source": [
        "bounds[0]"
      ],
      "metadata": {
        "id": "xJtx9H_G0dLN"
      },
      "execution_count": null,
      "outputs": []
    },
    {
      "cell_type": "code",
      "source": [
        "for box in boxes:\n",
        "  cv2.rectangle(img, (int(box[0][0]), int(box[0][1])), (int(box[2][0]), int(box[2][1])), (0,0,255),1)\n",
        "cv2.imwrite('detection_'+ str(i+1) + '.jpg', img)\n",
        ""
      ],
      "metadata": {
        "id": "J4n_iLuGz9iT"
      },
      "execution_count": null,
      "outputs": []
    },
    {
      "cell_type": "code",
      "source": [
        "text = []\n",
        "for i in range(len(bounds)):\n",
        "  text.append(bounds[i][1]+'\\n')"
      ],
      "metadata": {
        "id": "8e7BLhfMwUCp"
      },
      "execution_count": null,
      "outputs": []
    },
    {
      "cell_type": "code",
      "source": [
        "pd.DataFrame(text).to_csv('output')"
      ],
      "metadata": {
        "id": "_ax1eIuzxu6h"
      },
      "execution_count": null,
      "outputs": []
    },
    {
      "cell_type": "code",
      "source": [],
      "metadata": {
        "id": "lzENzA0Nxu4i"
      },
      "execution_count": null,
      "outputs": []
    },
    {
      "cell_type": "code",
      "source": [],
      "metadata": {
        "id": "Xg5J5to2xu2R"
      },
      "execution_count": null,
      "outputs": []
    },
    {
      "cell_type": "code",
      "source": [],
      "metadata": {
        "id": "waLIYxH6xuzx"
      },
      "execution_count": null,
      "outputs": []
    },
    {
      "cell_type": "code",
      "source": [
        "def process_image(image_path):\n",
        "  reader = easyocr.Reader(['en'])\n",
        "  image = convert_from_path(image_path, dpi=300 )\n",
        "\n",
        "  bounds = reader.readtext(np.array(image[0]), min_size=0, slope_ths=0.2, ycenter_ths=0.6, width_ths= 0.7, decoder='beamsearch', beamWidth=10)\n",
        "  return (image[0], bounds)\n",
        ""
      ],
      "metadata": {
        "id": "_S8lZ01hwmCu"
      },
      "execution_count": null,
      "outputs": []
    },
    {
      "cell_type": "code",
      "source": [
        "def draw_boxes(image, bounds, color='red', width=2):\n",
        "  draw = ImageDraw.Draw(image)\n",
        "  for i in bounds:\n",
        "    p0, p1, p2, p3 = i[0]\n",
        "    draw.line([*p0, *p1, *p2, *p3, *p0], fill=color, width=width)\n",
        "    # draw.rectangle(((p3),(p0)), fill=color, width=width)\n",
        "  return image\n"
      ],
      "metadata": {
        "id": "Phqfbi--B_ZI"
      },
      "execution_count": null,
      "outputs": []
    },
    {
      "cell_type": "code",
      "source": [
        "def getText(bounds):\n",
        "  text = ''\n",
        "  for i in range(len(bounds)):\n",
        "    text += bounds[i][1] +'\\n'\n",
        "\n",
        "  return text\n",
        "#list = text.split('\\n')\n",
        "#print(list)\n"
      ],
      "metadata": {
        "id": "xWvWvW_fB_X9"
      },
      "execution_count": null,
      "outputs": []
    },
    {
      "cell_type": "code",
      "source": [
        "def heading(text):\n",
        "\n",
        "  company_name = re.findall(r'\\bHENG YANG VALIN STEEL TUBE CO\\b', text)\n",
        "  address = re.findall(r'\\bHengyang City,Hunan,PR China PC\\b', text)\n",
        "  email = re.findall(r'(\\b\\w+@\\w+\\.\\w+\\b)', text)\n",
        "\n",
        "\n",
        "  info = [(\"Company Name\", company_name),\n",
        "            (\"Address\", address),\n",
        "            (\"Email\", email)]\n",
        "\n",
        "  for key, value in info:\n",
        "    print(key ,':', value)\n",
        "\n",
        "  return(info)"
      ],
      "metadata": {
        "id": "oriDbBufDWdO"
      },
      "execution_count": null,
      "outputs": []
    },
    {
      "cell_type": "code",
      "source": [
        "key_list_awaji = ['Purchaser',\n",
        "                'Date',\n",
        "                'Certificate No',\n",
        "                'Order No',\n",
        "                'Product',\n",
        "                'Pipe Heat No.',\n",
        "                'Material',\n",
        "                'Article & Size'\n",
        "                ]\n",
        "\n",
        "new_key_list_awaji = []\n",
        "for key in key_list_awaji:\n",
        "  key = key.replace('\\n','')\n",
        "  key = key.replace(' ','_')\n",
        "  key = key.lower()\n",
        "  key = key.strip()\n",
        "  new_key_list_awaji.append(key)\n",
        "\n",
        "\n",
        "def extract_data(text):\n",
        "\n",
        "  purchaser_pattern = r'Purchaser\\n(\\w+ .*)'\n",
        "  date_pattern = r'\\d{2}\\/\\d{2}\\/\\d{4}'\n",
        "  certificate_pattern = r'Certificate No\\s(\\w+-\\d+)'\n",
        "  product_pattern = re.compile(r'STAINLESS STEEL BUTT WELDING FITTINGS')\n",
        "  material_pattern = r'(\\w{3,}\\/\\w{3,})'\n",
        "  pipe_heat_no_pattern = r'Pipe Heat No\\.\\n(\\d+)'\n",
        "  article_size_pattern = r'(\\w+ \\d{3}\\/\\d+.*)'\n",
        "\n",
        "  purchaser = re.search(purchaser_pattern, text).group(1)\n",
        "  date = re.search(date_pattern, text).group()\n",
        "  certificate = re.search(certificate_pattern, text).group(1)\n",
        "  order_number = re.search(r'\\d{10}', text).group()\n",
        "  product = re.search(product_pattern,text).group()\n",
        "  material = re.search(material_pattern,text).group()\n",
        "  pipe_heat_no = re.search(pipe_heat_no_pattern,text).group(1)\n",
        "  article_size = re.search(article_size_pattern,text).group()\n",
        "\n",
        "\n",
        "  extracted_data = [\n",
        "      (\"Purchaser\", purchaser),\n",
        "      (\"Date\", date),\n",
        "      (\"Certificate No\", certificate),\n",
        "      (\"Order No\", order_number),\n",
        "      (\"Product\", product),\n",
        "      (\"Material\", material),\n",
        "      (\"Pipe Heat No.\", pipe_heat_no),\n",
        "      (\"Article & Size\", article_size)\n",
        "  ]\n",
        "\n",
        "  return extracted_data\n"
      ],
      "metadata": {
        "id": "0GJtpOjucLJS"
      },
      "execution_count": null,
      "outputs": []
    },
    {
      "cell_type": "code",
      "source": [
        "key_list = ['CERTIFICATENQ',\n",
        "            'Company Name',\n",
        "            'CUSTOMER',\n",
        "            'PONO',\n",
        "            'DELIVERY CONDITION',\n",
        "            'PRODUCT',\n",
        "            'PROCESS OF MANUFACTURE',\n",
        "            'HEAT TREATMENT',\n",
        "            'SPECIFICATION',\n",
        "            'PIPE-END DESCRIBE',\n",
        "            'DIMENSIONS',\n",
        "            'GRADE',\n",
        "            'TOTAL BUNDLES',\n",
        "            'TOTAL PIECES',\n",
        "            'TOTAL LENGTH']\n",
        "\n",
        "new_key_list = []\n",
        "for key in key_list:\n",
        "  key = key.replace('\\n','')\n",
        "  key = key.replace(' ','_')\n",
        "\n",
        "  key = key.lower()\n",
        "  key = key.strip()\n",
        "  new_key_list.append(key)"
      ],
      "metadata": {
        "id": "7AGyFQPKURs4"
      },
      "execution_count": null,
      "outputs": []
    },
    {
      "cell_type": "code",
      "source": [
        "new_key_list"
      ],
      "metadata": {
        "id": "qXbs1FnO3wTq"
      },
      "execution_count": null,
      "outputs": []
    },
    {
      "cell_type": "code",
      "source": [
        "def main(new_key_list):\n",
        "  reader = easyocr.Reader(['en'])\n",
        "  path = \"/content/\"\n",
        "  file = \"Hengyang-2.pdf\"\n",
        "  image_path = path+file\n",
        "  image = convert_from_path(image_path, dpi=300 )\n",
        "\n",
        "  #result = {}\n",
        "  for i in image:\n",
        "    bounds = reader.readtext(image, min_size=0, slope_ths=0.2, ycenter_ths=0.6, width_ths= 0.7, decoder='beamsearch', beamWidth=10)\n",
        "\n",
        "    text = ''\n",
        "    for i in range(len(bounds)):\n",
        "      text += bounds[i][1]+'\\n'\n",
        "\n",
        "    #print(text)\n",
        "\n",
        "\n",
        "    if(n==1):\n",
        "      head_extract = heading(text)\n",
        "    print('\\n')\n",
        "\n",
        "\n",
        "    key_value_pairs_hengyang = re.findall(r'([A-Z\\s|-]+):\\s+(.+)', text)\n",
        "    #key_value_pairs_awaji = extract_data(text)\n",
        "    #key_value_pairs = re.findall(r'(\\w+):\\s*([\\w\\s\\d\\'/]+)?', text)\n",
        "\n",
        "    #print('\\n', \"page: \",n ,'\\n')\n",
        "\n",
        "\n",
        "\n",
        "    #print(result)\n",
        "    for key, value in key_value_pairs_hengyang:\n",
        "      key = key.replace('\\n','')\n",
        "      key = key.replace(' ','_')\n",
        "      key = key.lower()\n",
        "      key = key.strip()\n",
        "\n",
        "      if key in new_key_list:\n",
        "        print(key, ':', value,'\\n')\n",
        "    return 0\n",
        "\n",
        "\n",
        "\n",
        "    #result_page = {key:value for key, value in key_value_pairs}\n",
        "    #min_max = {}\n",
        "\n",
        "\n",
        "      #min_max = getMinMax(text)\n",
        "      #result.update(min_max)\n",
        "    #result.update(result_page)\n",
        "    #print(result_page)\n",
        "    #n = n+1\n",
        "  #print(result)\n",
        "  #return result\n",
        "\n",
        "\n",
        "\n",
        "\n"
      ],
      "metadata": {
        "id": "Iu_7VnmgaIWv"
      },
      "execution_count": null,
      "outputs": []
    },
    {
      "cell_type": "code",
      "source": [
        "if __name__ == \"__main__\":\n",
        "  main(new_key_list)"
      ],
      "metadata": {
        "id": "7TuKnWuvAWYn"
      },
      "execution_count": null,
      "outputs": []
    },
    {
      "cell_type": "code",
      "source": [
        "import re\n",
        "\n",
        "text = \"TRAIN NO:\\nDATE:\\n20200210\\nCONTRACT-ITEM NO.:\\n2319110005012\"\n",
        "\n",
        "pattern = re.compile(r\"TRAIN NO:\\s+(\\d+)\")\n",
        "\n",
        "match = re.search(pattern, text)\n",
        "if match:\n",
        "    train_no = match.group(1)\n",
        "    print(\"Train No:\", train_no)\n",
        "else:\n",
        "    print(\"Train No not found.\")\n"
      ],
      "metadata": {
        "id": "OOlpSmPxTyXf"
      },
      "execution_count": null,
      "outputs": []
    },
    {
      "cell_type": "code",
      "source": [
        "!pip install pytesseract\n",
        "!sudo apt install tesseract-ocr"
      ],
      "metadata": {
        "id": "1yGrhGiEuWlg"
      },
      "execution_count": null,
      "outputs": []
    },
    {
      "cell_type": "code",
      "source": [
        "text = pytesseract.image_to_string(img[0])\n",
        "print(text)"
      ],
      "metadata": {
        "id": "RCLu2rNSuat0"
      },
      "execution_count": null,
      "outputs": []
    }
  ]
}